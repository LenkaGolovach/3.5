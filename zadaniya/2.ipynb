{
 "cells": [
  {
   "cell_type": "markdown",
   "metadata": {},
   "source": [
    "## Самостоятельное задание\n",
    "#### Создать ноутбук, в котором выполнить решение вычислительной задачи (например, задачи из области физики, экономики, математики, статистики и т. д.) требующей построения столбчатой диаграммы, условие которой предварительно необходимо согласовать с преподавателем."
   ]
  },
  {
   "attachments": {},
   "cell_type": "markdown",
   "metadata": {},
   "source": [
    " В фитнес-клубе проводится анализ по посещаемости различных тренировок. Имеются данные о количестве посещений тренировок по категориям: кардио, силовые и групповые занятия. Необходимо сравнить посещаемость тренировок за последний месяц и определить, какая категория тренировок пользуется наибольшей популярностью у клиентов. Также нужно найти среднее количество посещений каждой категории тренировок.\n"
   ]
  },
  {
   "cell_type": "code",
   "execution_count": 4,
   "metadata": {
    "vscode": {
     "languageId": "python"
    }
   },
   "outputs": [],
   "source": [
    "import matplotlib.pyplot as plt\n",
    "import numpy as np"
   ]
  },
  {
   "attachments": {},
   "cell_type": "markdown",
   "metadata": {},
   "source": [
    "Указываем параметры"
   ]
  },
  {
   "cell_type": "code",
   "execution_count": 5,
   "metadata": {
    "vscode": {
     "languageId": "python"
    }
   },
   "outputs": [],
   "source": [
    "cardio_visits = [80, 100, 90, 120]\n",
    "strength_visits = [110, 130, 140, 120]\n",
    "group_visits = [90, 80, 100, 110]"
   ]
  },
  {
   "attachments": {},
   "cell_type": "markdown",
   "metadata": {},
   "source": [
    "Считаем среднее кол-во посещений"
   ]
  },
  {
   "cell_type": "code",
   "execution_count": 6,
   "metadata": {
    "vscode": {
     "languageId": "python"
    }
   },
   "outputs": [
    {
     "name": "stdout",
     "output_type": "stream",
     "text": [
      "Среднее количество посещений кардио тренировок: 97.5\n",
      "Среднее количество посещений силовых тренировок: 125.0\n",
      "Среднее количество посещений групповых тренировок: 95.0\n"
     ]
    }
   ],
   "source": [
    "avg_cardio_visits = sum(cardio_visits) / len(cardio_visits)\n",
    "avg_strength_visits = sum(strength_visits) / len(strength_visits)\n",
    "avg_group_visits = sum(group_visits) / len(group_visits)\n",
    "\n",
    "print(\"Среднее количество посещений кардио тренировок:\", avg_cardio_visits)\n",
    "print(\"Среднее количество посещений силовых тренировок:\", avg_strength_visits)\n",
    "print(\"Среднее количество посещений групповых тренировок:\", avg_group_visits)"
   ]
  },
  {
   "attachments": {},
   "cell_type": "markdown",
   "metadata": {},
   "source": [
    "Выводим график"
   ]
  },
  {
   "cell_type": "code",
   "execution_count": 7,
   "metadata": {
    "vscode": {
     "languageId": "python"
    }
   },
   "outputs": [
    {
     "data": {
      "image/png": "[encoded data removed]",
      "text/plain": [
       "<Figure size 432x288 with 1 Axes>"
      ]
     },
     "metadata": {
      "needs_background": "light"
     },
     "output_type": "display_data"
    }
   ],
   "source": [
    "labels = ['Неделя 1', 'Неделя 2', 'Неделя 3', 'Неделя 4']\n",
    "x = np.arange(len(labels))\n",
    "width = 0.3\n",
    "\n",
    "fig, ax = plt.subplots()\n",
    "rects1 = ax.bar(x - width/2, cardio_visits, width, label='Кардио')\n",
    "rects2 = ax.bar(x + width/2, strength_visits, width, label='Силовые')\n",
    "rects3 = ax.bar(x + width*3/2, group_visits, width, label='Групповые')\n",
    "\n",
    "ax.set_ylabel('Количество посещений')\n",
    "ax.set_xlabel('Недели')\n",
    "ax.set_title('Посещаемость тренировок за месяц')\n",
    "ax.set_xticks(x)\n",
    "ax.set_xticklabels(labels)\n",
    "ax.legend()\n",
    "\n",
    "plt.show()"
   ]
  }
 ],
 "metadata": {
  "kernelspec": {
   "display_name": "Python 3 (ipykernel)",
   "language": "python",
   "name": "python3"
  }
 },
 "nbformat": 4,
 "nbformat_minor": 4
}
